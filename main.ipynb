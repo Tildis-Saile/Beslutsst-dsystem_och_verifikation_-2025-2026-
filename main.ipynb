{
 "cells": [
  {
   "cell_type": "markdown",
   "id": "c6123c59",
   "metadata": {},
   "source": [
    "# Spotify clone\n",
    "A program to recommend songs for the person that like songs. yes"
   ]
  },
  {
   "cell_type": "markdown",
   "id": "74385b2b",
   "metadata": {},
   "source": [
    "## Imports"
   ]
  },
  {
   "cell_type": "code",
   "execution_count": null,
   "id": "67b7362a",
   "metadata": {},
   "outputs": [],
   "source": [
    "import pandas as pd\n",
    "from sklearn.feature_extraction.text import TfidfVectorizer\n",
    "from sklearn.metrics.pairwise import cosine_similarity"
   ]
  },
  {
   "cell_type": "code",
   "execution_count": null,
   "id": "5e0d036d",
   "metadata": {},
   "outputs": [],
   "source": []
  }
 ],
 "metadata": {
  "kernelspec": {
   "display_name": "base",
   "language": "python",
   "name": "python3"
  },
  "language_info": {
   "name": "python",
   "version": "3.12.7"
  }
 },
 "nbformat": 4,
 "nbformat_minor": 5
}
